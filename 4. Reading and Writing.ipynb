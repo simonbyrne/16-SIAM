{
 "cells": [
  {
   "cell_type": "markdown",
   "metadata": {},
   "source": [
    "# Reading and Writing data"
   ]
  },
  {
   "cell_type": "markdown",
   "metadata": {},
   "source": [
    "## CSV\n",
    "\n",
    "Comma separated values are fairly ubiquitous as an interchange format. There are a couple of ways to get them into Julia:\n",
    "\n",
    "- `readcsv` in Base julia: this will read the data into a single matrix.\n",
    "  - Really only useful if the data is of a homogeneous type\n",
    "- `readtable` in DataFrames.jl. This reads the data into DataFrame.\n",
    "  - Deals with headers (or lack thereof), heterogeneous columns, missingness, etc.\n",
    "  - Can be slow for large files.\n",
    "- CSV.jl is the latest addition based on the idea of \"stream\" of data (so it can avoid loading the whole thing into memory)\n",
    "  - Fast, but can be a bit more complicated to use (though hopefully should be fixed soon)."
   ]
  },
  {
   "cell_type": "markdown",
   "metadata": {},
   "source": [
    "## JSON\n",
    "\n",
    "JSON.jl can be used for serializing data to and from JSON streams: very useful for working with web APIs"
   ]
  },
  {
   "cell_type": "markdown",
   "metadata": {},
   "source": [
    "# Reading custom data formats\n",
    "\n",
    "If you have to read in other data files, I would first recommend checking out FileIO.jl: it does a fairly good job of figuring out what type of file you have, and then loading the appropriate package."
   ]
  },
  {
   "cell_type": "markdown",
   "metadata": {},
   "source": [
    "## JLD\n",
    "\n",
    "If you want to save/restore data between Julia sessions, the recommended way is via JLD.jl.\n",
    "\n",
    "This stores it in a HDF5 file (a nicely standardised data format), with extra info for storing custom Julia types."
   ]
  },
  {
   "cell_type": "markdown",
   "metadata": {},
   "source": [
    "## Mat files\n",
    "\n",
    "The .mat files from Matlab are also a HDF5 file, and can be loaded via the Mat.jl package."
   ]
  },
  {
   "cell_type": "markdown",
   "metadata": {},
   "source": [
    "## Rdata\n",
    "\n",
    "Rdata files (.Rdata or .Rda) can obviously be imported via RCall.jl. You can also load them directly via Rdata.jl"
   ]
  },
  {
   "cell_type": "markdown",
   "metadata": {},
   "source": [
    "## Images\n",
    "\n",
    "Most raster image formats can be loaded directly as matrices (with optional metadata) via ImageMagick.jl"
   ]
  },
  {
   "cell_type": "markdown",
   "metadata": {},
   "source": [
    "# Databases\n",
    "\n",
    "There are quite a few packages for interacting the various databases under the JuliaDB organisation (https://github.com/JuliaDB/). The quality however is somewhat mixed, though the low-level ODBC.jl works fairly well."
   ]
  },
  {
   "cell_type": "code",
   "execution_count": null,
   "metadata": {
    "collapsed": true
   },
   "outputs": [],
   "source": []
  }
 ],
 "metadata": {
  "kernelspec": {
   "display_name": "Julia 0.5.0-rc3",
   "language": "julia",
   "name": "julia-0.5"
  },
  "language_info": {
   "file_extension": ".jl",
   "mimetype": "application/julia",
   "name": "julia",
   "version": "0.5.0"
  }
 },
 "nbformat": 4,
 "nbformat_minor": 0
}
