{
 "cells": [
  {
   "cell_type": "markdown",
   "metadata": {
    "slideshow": {
     "slide_type": "slide"
    }
   },
   "source": [
    "# About Me\n",
    "\n",
    "- I'm a developer at Julia Computing\n",
    "  - Started December last year\n",
    "- prior to that I was a postdoc in Stats at UCL\n",
    "  - my research was on MCMC\n",
    "- I started with Julia in September 2012 (pre v0.1)\n",
    "  - my first pull request was in October 2012."
   ]
  },
  {
   "cell_type": "markdown",
   "metadata": {
    "slideshow": {
     "slide_type": "subslide"
    }
   },
   "source": [
    "## How I started with Julia\n",
    "\n",
    "MCMC is inherently a sequential algorithms\n",
    " - not amenable to \"vectorised\" form necessary for speed in R\n",
    "\n",
    "I want a language that is\n",
    " - Quick to write: easy to try out ideas.\n",
    " - Reasonably performant, but representative of the speed of the algorithm. \n",
    " - Easy to understand: if I need to look at the code 6 months later.\n",
    " - Able to peek under the hood."
   ]
  },
  {
   "cell_type": "code",
   "execution_count": 1,
   "metadata": {
    "collapsed": false
   },
   "outputs": [
    {
     "data": {
      "text/plain": [
       "1-element Array{Any,1}:\n",
       " :($(Expr(:lambda, Any[:x,:y], Any[Any[Any[:x,Float64,0],Any[:y,Float64,0]],Any[],Any[],Any[]], :(begin  # float.jl, line 212:\n",
       "        return (Base.box)(Base.Float64,(Base.mul_float)(x::Float64,y::Float64))\n",
       "    end::Float64))))"
      ]
     },
     "execution_count": 1,
     "metadata": {},
     "output_type": "execute_result"
    }
   ],
   "source": [
    "@code_typed 1.0*2.0"
   ]
  },
  {
   "cell_type": "code",
   "execution_count": 2,
   "metadata": {
    "collapsed": false
   },
   "outputs": [
    {
     "name": "stdout",
     "output_type": "stream",
     "text": [
      "\n",
      "define double @\"julia_*_21599\"(double, double) {\n",
      "top:\n",
      "  %2 = fmul double %0, %1\n",
      "  ret double %2\n",
      "}\n"
     ]
    }
   ],
   "source": [
    "@code_llvm 1.0*2.0"
   ]
  },
  {
   "cell_type": "code",
   "execution_count": 3,
   "metadata": {
    "collapsed": false
   },
   "outputs": [
    {
     "name": "stdout",
     "output_type": "stream",
     "text": [
      "\t.section\t__TEXT,__text,regular,pure_instructions\n",
      "Filename: float.jl\n",
      "Source line: 212\n",
      "\tpushq\t%rbp\n",
      "\tmovq\t%rsp, %rbp\n",
      "Source line: 212\n",
      "\tmulsd\t%xmm1, %xmm0\n",
      "\tpopq\t%rbp\n",
      "\tret\n"
     ]
    }
   ],
   "source": [
    "@code_native 1.0*2.0"
   ]
  },
  {
   "cell_type": "code",
   "execution_count": null,
   "metadata": {
    "collapsed": true
   },
   "outputs": [],
   "source": []
  }
 ],
 "metadata": {
  "kernelspec": {
   "display_name": "Julia 0.4.5",
   "language": "julia",
   "name": "julia-0.4"
  },
  "language_info": {
   "file_extension": ".jl",
   "mimetype": "application/julia",
   "name": "julia",
   "version": "0.4.5"
  }
 },
 "nbformat": 4,
 "nbformat_minor": 0
}
